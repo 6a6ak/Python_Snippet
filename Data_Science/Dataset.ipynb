{
  "nbformat": 4,
  "nbformat_minor": 0,
  "metadata": {
    "colab": {
      "provenance": [],
      "collapsed_sections": [],
      "authorship_tag": "ABX9TyM3nb4cf1a5rIgw1u4N5N03",
      "include_colab_link": true
    },
    "kernelspec": {
      "name": "python3",
      "display_name": "Python 3"
    },
    "language_info": {
      "name": "python"
    }
  },
  "cells": [
    {
      "cell_type": "markdown",
      "metadata": {
        "id": "view-in-github",
        "colab_type": "text"
      },
      "source": [
        "<a href=\"https://colab.research.google.com/github/6a6ak/Python_Snippet/blob/main/Dataset.ipynb\" target=\"_parent\"><img src=\"https://colab.research.google.com/assets/colab-badge.svg\" alt=\"Open In Colab\"/></a>"
      ]
    },
    {
      "cell_type": "code",
      "execution_count": 1,
      "metadata": {
        "colab": {
          "base_uri": "https://localhost:8080/"
        },
        "id": "-v3lxxcedc05",
        "outputId": "fe94d3fe-9fc7-487f-d534-a3a5cda5a4a6"
      },
      "outputs": [
        {
          "output_type": "execute_result",
          "data": {
            "text/plain": [
              "0         1\n",
              "1         2\n",
              "2         3\n",
              "3         4\n",
              "4         5\n",
              "5     babak\n",
              "6         0\n",
              "7       NaN\n",
              "8        -1\n",
              "9        -2\n",
              "10       -3\n",
              "11       -4\n",
              "12     -5.5\n",
              "dtype: object"
            ]
          },
          "metadata": {},
          "execution_count": 1
        }
      ],
      "source": [
        "import pandas as pd\n",
        "import numpy as np\n",
        "pd.Series([1, 2, 3, 4, 5,'babak',0, np.nan, -1,-2,-3,-4,-5.5])"
      ]
    }
  ]
}