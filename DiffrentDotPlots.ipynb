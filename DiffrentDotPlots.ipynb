{
  "nbformat": 4,
  "nbformat_minor": 0,
  "metadata": {
    "colab": {
      "provenance": [],
      "authorship_tag": "ABX9TyOrNgv/FOKIchU1A0MArf3Q",
      "include_colab_link": true
    },
    "kernelspec": {
      "name": "python3",
      "display_name": "Python 3"
    },
    "language_info": {
      "name": "python"
    }
  },
  "cells": [
    {
      "cell_type": "markdown",
      "metadata": {
        "id": "view-in-github",
        "colab_type": "text"
      },
      "source": [
        "<a href=\"https://colab.research.google.com/github/6a6ak/Python_Snippet/blob/main/DiffrentDotPlots.ipynb\" target=\"_parent\"><img src=\"https://colab.research.google.com/assets/colab-badge.svg\" alt=\"Open In Colab\"/></a>"
      ]
    },
    {
      "cell_type": "code",
      "execution_count": 2,
      "metadata": {
        "colab": {
          "base_uri": "https://localhost:8080/",
          "height": 281
        },
        "id": "ODj60pMym1mk",
        "outputId": "6e12c400-4ede-4ec0-950b-56fdb2f0d060"
      },
      "outputs": [
        {
          "output_type": "display_data",
          "data": {
            "text/plain": [
              "<Figure size 432x288 with 1 Axes>"
            ],
            "image/png": "[encoded data removed]"
          },
          "metadata": {
            "needs_background": "light"
          }
        }
      ],
      "source": [
        "import numpy as np\n",
        "import matplotlib.pyplot as plt\n",
        "data={\n",
        "    'a': np.random.randn(50),\n",
        "    'b': np.random.randint(0,50,50),\n",
        "    'c':np.random.randn(50)\n",
        "}\n",
        "plt.plot (data['a'],'ro',data['c'], 'bo',data['b'], 'go')\n",
        "plt.ylabel('Y');plt.xlabel('X')\n",
        "plt.show()"
      ]
    }
  ]
}